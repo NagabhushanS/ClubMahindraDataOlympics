{
 "cells": [
  {
   "cell_type": "code",
   "execution_count": null,
   "metadata": {
    "collapsed": true
   },
   "outputs": [],
   "source": [
    "import os, sys\n",
    "import re\n",
    "import pandas as pd\n",
    "import numpy as np\n",
    "import matplotlib.pyplot as plt\n",
    "import seaborn as sbn\n",
    "import datetime\n",
    "import pickle\n",
    "from lightgbm import *\n",
    "from sklearn.model_selection import *\n",
    "from sklearn.ensemble import *\n",
    "import scipy\n",
    "from xgboost import *\n",
    "from catboost import *"
   ]
  },
  {
   "cell_type": "code",
   "execution_count": null,
   "metadata": {
    "collapsed": false
   },
   "outputs": [],
   "source": [
    "dateparse = lambda x: pd.datetime.strptime(x, '%d/%m/%y')"
   ]
  },
  {
   "cell_type": "code",
   "execution_count": null,
   "metadata": {
    "collapsed": false
   },
   "outputs": [],
   "source": [
    "trainDF = pd.read_csv('dataset/train.csv', parse_dates=['booking_date', 'checkin_date', 'checkout_date'], date_parser=dateparse)\n",
    "print('Done loading training data')\n",
    "testDF = pd.read_csv('dataset/test.csv', parse_dates=['booking_date', 'checkin_date', 'checkout_date'], date_parser=dateparse)\n",
    "print('Done loading testing data')"
   ]
  },
  {
   "cell_type": "code",
   "execution_count": null,
   "metadata": {
    "collapsed": true
   },
   "outputs": [],
   "source": [
    "dir(trainDF['checkin_date'].dt)\n",
    "newFeatures = ['day', 'dayofweek', 'dayofyear', 'days_in_month', 'is_leap_year', 'is_month_end',\n",
    " 'is_month_start', 'is_quarter_end', 'is_quarter_start', 'is_year_end','is_year_start','month',\n",
    " 'quarter','weekofyear', 'year']\n"
   ]
  },
  {
   "cell_type": "code",
   "execution_count": null,
   "metadata": {
    "collapsed": true
   },
   "outputs": [],
   "source": [
    "########################checkin, checkout and booking dates##########################################\n",
    "\n",
    "for feature in newFeatures:\n",
    "    trainDF['xxx_checkin_'+feature] = getattr(trainDF['checkin_date'].dt, feature)\n",
    "for feature in newFeatures:\n",
    "    trainDF['xxx_checkout_'+feature] = getattr(trainDF['checkout_date'].dt, feature)\n",
    "for feature in newFeatures:\n",
    "    trainDF['xxx_booking_'+feature] = getattr(trainDF['booking_date'].dt, feature)\n",
    "    \n",
    "for feature in newFeatures:\n",
    "    testDF['xxx_checkin_'+feature] = getattr(testDF['checkin_date'].dt, feature)\n",
    "for feature in newFeatures:\n",
    "    testDF['xxx_checkout_'+feature] = getattr(testDF['checkout_date'].dt, feature)\n",
    "for feature in newFeatures:\n",
    "    testDF['xxx_booking_'+feature] = getattr(testDF['booking_date'].dt, feature)\n",
    "    \n",
    "\n",
    "    "
   ]
  },
  {
   "cell_type": "code",
   "execution_count": null,
   "metadata": {
    "collapsed": true
   },
   "outputs": [],
   "source": [
    "########################checkin, checkout and booking dates##########################################\n",
    "\n",
    "trainDF['xxx_checkin_boarding_diff'] = (trainDF['checkin_date']-trainDF['booking_date']).dt.days\n",
    "testDF['xxx_checkin_boarding_diff'] = (testDF['checkin_date']-testDF['booking_date']).dt.days\n",
    "\n",
    "trainDF['xxx_checkout_checkin_diff'] = (trainDF['checkout_date']-trainDF['checkin_date']).dt.days\n",
    "testDF['xxx_checkout_checkin_diff'] = (testDF['checkout_date']-testDF['checkin_date']).dt.days\n",
    "\n",
    "\n",
    "trainDF['xxx_new_checkin'] = trainDF['checkin_date'].dt.date-datetime.date(2012, 3, 21)\n",
    "testDF['xxx_new_checkin'] = testDF['checkin_date'].dt.date-datetime.date(2012, 3, 21)\n",
    "\n",
    "trainDF['xxx_new_checkin'] = trainDF['xxx_new_checkin'].dt.days\n",
    "testDF['xxx_new_checkin'] = testDF['xxx_new_checkin'].dt.days\n",
    "\n",
    "trainDF['xxx_stayed_minus_roomnights'] = trainDF['roomnights']-trainDF['xxx_checkout_checkin_diff']\n",
    "testDF['xxx_stayed_minus_roomnights'] = testDF['roomnights']-testDF['xxx_checkout_checkin_diff']\n",
    "\n",
    "\n"
   ]
  },
  {
   "cell_type": "code",
   "execution_count": null,
   "metadata": {
    "collapsed": true
   },
   "outputs": [],
   "source": [
    "del trainDF['checkin_date']\n",
    "del testDF['checkin_date']\n",
    "del trainDF['checkout_date']\n",
    "del testDF['checkout_date']\n",
    "del trainDF['booking_date']\n",
    "del testDF['booking_date']"
   ]
  },
  {
   "cell_type": "code",
   "execution_count": null,
   "metadata": {
    "collapsed": true
   },
   "outputs": [],
   "source": [
    "##################################main_product_code####################################################\n",
    "trainDF['main_product_code'] = trainDF['main_product_code'].replace(7, 0)\n",
    "testDF['main_product_code'] = testDF['main_product_code'].replace(7, 0)\n",
    "\n",
    "#pass"
   ]
  },
  {
   "cell_type": "code",
   "execution_count": null,
   "metadata": {
    "collapsed": true
   },
   "outputs": [],
   "source": [
    "##################################numberofadults, numberofchildren#####################################\n",
    "\n",
    "trainDF['xxx_diff_people'] = -trainDF['numberofchildren']-trainDF['numberofadults']+trainDF['total_pax'] \n",
    "testDF['xxx_diff_people'] = -testDF['numberofchildren']-testDF['numberofadults']+testDF['total_pax']\n",
    "\n",
    "trainDF['xxx_child_plus_adults'] = trainDF['numberofchildren'] + trainDF['numberofadults']\n",
    "testDF['xxx_child_plus_adults'] = testDF['numberofchildren'] + testDF['numberofadults']\n",
    "\n",
    "trainDF['xxx_child_fraction'] = trainDF['numberofchildren']/trainDF['xxx_child_plus_adults']\n",
    "testDF['xxx_child_fraction'] = testDF['numberofchildren']/testDF['xxx_child_plus_adults']\n",
    "\n",
    "trainDF['xxx_adult_fraction'] = trainDF['numberofadults']/trainDF['xxx_child_plus_adults']\n",
    "testDF['xxx_adult_fraction'] = testDF['numberofadults']/testDF['xxx_child_plus_adults']\n",
    "\n",
    "trainDF['xxx_ignore_pax_or_ch_ad'] = (trainDF['xxx_child_plus_adults']==trainDF['total_pax'])\n",
    "testDF['xxx_ignore_pax_or_ch_ad'] = (testDF['xxx_child_plus_adults']==testDF['total_pax'])\n",
    "\n",
    "trainDF['xxx_adult_fraction'].fillna(0, inplace=True)\n",
    "testDF['xxx_adult_fraction'].fillna(0, inplace=True)\n",
    "trainDF['xxx_child_fraction'].fillna(0, inplace=True)\n",
    "testDF['xxx_child_fraction'].fillna(0, inplace=True)"
   ]
  },
  {
   "cell_type": "code",
   "execution_count": null,
   "metadata": {
    "collapsed": true
   },
   "outputs": [],
   "source": [
    "#################################persontravellingid###################################################\n",
    "\n",
    "trainDF['xxx_persontravellingid'] = trainDF['persontravellingid'].replace([45, 47, 46, 4752, 4753, 4995], [0, 1, 2, 3, 4, 5])\n",
    "testDF['xxx_persontravellingid'] = testDF['persontravellingid'].replace([45, 47, 46, 4752, 4753, 4995], [0, 1, 2, 3, 4, 5])\n",
    "\n",
    "del trainDF['persontravellingid']\n",
    "del testDF['persontravellingid']"
   ]
  },
  {
   "cell_type": "code",
   "execution_count": null,
   "metadata": {
    "collapsed": true
   },
   "outputs": [],
   "source": [
    "##################################season_holidayed_code###############################################\n",
    "trainDF['season_holidayed_code'] = trainDF['season_holidayed_code'].fillna(0)\n",
    "testDF['season_holidayed_code'] = testDF['season_holidayed_code'].fillna(0)\n",
    "\n",
    "\n",
    "#pass"
   ]
  },
  {
   "cell_type": "code",
   "execution_count": null,
   "metadata": {
    "collapsed": true
   },
   "outputs": [],
   "source": [
    "###################################state_code_residence###############################################\n",
    "\n",
    "trainDF['state_code_residence'] = trainDF['state_code_residence'].fillna(0)\n",
    "testDF['state_code_residence'] = testDF['state_code_residence'].fillna(0)"
   ]
  },
  {
   "cell_type": "code",
   "execution_count": null,
   "metadata": {
    "collapsed": true
   },
   "outputs": [],
   "source": [
    "#############################member_age_buckets#######################################################\n",
    "\n",
    "trainDF['xxx_member_age_buckets'] = trainDF['member_age_buckets'].replace(['D', 'E', 'F', 'C', 'H', 'G', 'B', 'I', 'A', 'J'], [0, 1, 2, 3, 4, 5, 6, 7, 8, 9])\n",
    "testDF['xxx_member_age_buckets'] = testDF['member_age_buckets'].replace(['D', 'E', 'F', 'C', 'H', 'G', 'B', 'I', 'A', 'J'], [0, 1, 2, 3, 4, 5, 6, 7, 8, 9])\n",
    "\n",
    "del trainDF['member_age_buckets']\n",
    "del testDF['member_age_buckets']"
   ]
  },
  {
   "cell_type": "code",
   "execution_count": null,
   "metadata": {
    "collapsed": true
   },
   "outputs": [],
   "source": [
    "###########################################memberid###################################################\n",
    "\n",
    "memberTrain = trainDF['memberid'].value_counts()\n",
    "memberTest = testDF['memberid'].value_counts()\n",
    "\n",
    "memberFeatureTrain = [0]*len(trainDF)\n",
    "memberFeatureTest = [0]*len(testDF)\n",
    "\n",
    "for i in range(len(trainDF)):\n",
    "    memberFeatureTrain[i] = memberTrain[trainDF.loc[i, 'memberid']]\n",
    "\n",
    "for i in range(len(testDF)):\n",
    "    memberFeatureTest[i] = memberTest[testDF.loc[i, 'memberid']]\n",
    "  \n",
    "trainDF['xxx_member_feature'] = memberFeatureTrain\n",
    "testDF['xxx_member_feature'] = memberFeatureTest\n",
    "\n",
    "# del trainDF['memberid']\n",
    "# del testDF['memberid']"
   ]
  },
  {
   "cell_type": "code",
   "execution_count": null,
   "metadata": {
    "collapsed": true
   },
   "outputs": [],
   "source": [
    "########################################cluster_code##################################################\n",
    "\n",
    "trainDF['xxx_cluster'] = trainDF['cluster_code'].replace(['F', 'E', 'D', 'C', 'B', 'A'], [5, 4, 3, 2, 1, 0])\n",
    "testDF['xxx_cluster'] = testDF['cluster_code'].replace(['F', 'E', 'D', 'C', 'B', 'A'], [5, 4, 3, 2, 1, 0])\n",
    "\n",
    "del trainDF['cluster_code']\n",
    "del testDF['cluster_code']"
   ]
  },
  {
   "cell_type": "code",
   "execution_count": null,
   "metadata": {
    "collapsed": true
   },
   "outputs": [],
   "source": [
    "########################################reservationstatusid_code##################################################\n",
    "\n",
    "trainDF['xxx_reservationstatusid_code'] = trainDF['reservationstatusid_code'].replace(['A', 'B', 'C', 'D'], [0, 1, 2, 0])\n",
    "testDF['xxx_reservationstatusid_code'] = testDF['reservationstatusid_code'].replace(['A', 'B', 'C', 'D'], [0, 1, 2, 0])\n",
    "\n",
    "del trainDF['reservationstatusid_code']\n",
    "del testDF['reservationstatusid_code']"
   ]
  },
  {
   "cell_type": "code",
   "execution_count": null,
   "metadata": {
    "collapsed": true
   },
   "outputs": [],
   "source": [
    "resortCount=trainDF['resort_id'].value_counts()"
   ]
  },
  {
   "cell_type": "code",
   "execution_count": null,
   "metadata": {
    "collapsed": false
   },
   "outputs": [],
   "source": [
    "###############################################resort_id##############################################\n",
    "\n",
    "trainDF['xxx_resort_code'] = trainDF['resort_id'].replace(resortCount.index.tolist(), list(range(0, 32)))\n",
    "print(\"Done with training data\")\n",
    "testDF['xxx_resort_code'] = testDF['resort_id'].replace(resortCount.index.tolist(), list(range(0, 32)))\n",
    "\n",
    "del trainDF['resort_id']\n",
    "del testDF['resort_id']"
   ]
  },
  {
   "cell_type": "code",
   "execution_count": null,
   "metadata": {
    "collapsed": true
   },
   "outputs": [],
   "source": [
    "cf = [\n",
    " 'channel_code',\n",
    " 'main_product_code',\n",
    " 'resort_region_code',\n",
    " 'resort_type_code',\n",
    " 'room_type_booked_code',\n",
    " 'season_holidayed_code',\n",
    " 'state_code_residence',\n",
    " 'state_code_resort',\n",
    " 'booking_type_code',\n",
    " 'xxx_ignore_pax_or_ch_ad',\n",
    " 'xxx_persontravellingid',\n",
    " 'xxx_member_age_buckets',\n",
    " 'xxx_cluster',\n",
    " 'xxx_reservationstatusid_code',\n",
    " 'xxx_resort_code']\n",
    "\n",
    "nf = [\n",
    " 'numberofadults',\n",
    " 'numberofchildren',\n",
    " 'roomnights',\n",
    " 'total_pax',\n",
    " 'xxx_checkin_boarding_diff',\n",
    " 'xxx_checkout_checkin_diff',\n",
    " 'xxx_new_checkin',\n",
    " 'xxx_stayed_minus_roomnights',\n",
    " 'xxx_xcheckin_nhf',\n",
    " 'xxx_diff_people',\n",
    " 'xxx_child_plus_adults',\n",
    " 'xxx_child_fraction',\n",
    " 'xxx_adult_fraction']"
   ]
  },
  {
   "cell_type": "code",
   "execution_count": null,
   "metadata": {
    "collapsed": true
   },
   "outputs": [],
   "source": [
    "y = np.array(trainDF['amount_spent_per_room_night_scaled'].values)\n",
    "testIds = np.array(testDF['reservation_id'].values)\n",
    "groups = np.array(trainDF['memberid'].values)"
   ]
  },
  {
   "cell_type": "code",
   "execution_count": null,
   "metadata": {
    "collapsed": true
   },
   "outputs": [],
   "source": [
    "del trainDF['reservation_id']\n",
    "del trainDF['amount_spent_per_room_night_scaled']\n",
    "del testDF['reservation_id']\n",
    "del trainDF['memberid']\n",
    "del testDF['memberid']"
   ]
  },
  {
   "cell_type": "code",
   "execution_count": null,
   "metadata": {
    "collapsed": true
   },
   "outputs": [],
   "source": [
    "X = np.array(trainDF.values)\n",
    "XTest = np.array(testDF.values)\n",
    "featureColumns = np.array(trainDF.columns)"
   ]
  },
  {
   "cell_type": "code",
   "execution_count": null,
   "metadata": {
    "collapsed": false
   },
   "outputs": [],
   "source": [
    "print(X.shape, y.shape, XTest.shape)"
   ]
  },
  {
   "cell_type": "code",
   "execution_count": null,
   "metadata": {
    "collapsed": false
   },
   "outputs": [],
   "source": [
    "pickle.dump([X, y, XTest, testIds, featureColumns, groups], open('freshPickles/cleanExperimentDataF=74.pk', 'wb'))"
   ]
  },
  {
   "cell_type": "code",
   "execution_count": null,
   "metadata": {
    "collapsed": false
   },
   "outputs": [],
   "source": [
    "catFeatures = [0, 1, 4, 5, 6, 8, 9, 10, 12, 67, 68, 69, 71, 72, 73]\n",
    "\n",
    "cfc = []\n",
    "for z in catFeatures:\n",
    "    cfc.append(featureColumns[z])\n",
    "    print(featureColumns[z])"
   ]
  },
  {
   "cell_type": "code",
   "execution_count": null,
   "metadata": {
    "collapsed": false
   },
   "outputs": [],
   "source": [
    "model = CatBoostRegressor(cat_features=catFeatures)\n",
    "scores = cross_val_score(model, X, y, cv=gfCV10, verbose=100, scoring='neg_mean_squared_error')\n",
    "\n",
    "print(scores)\n",
    "print(np.mean(scores))\n",
    "print(np.sqrt(-1*scores))\n",
    "print(np.mean(np.sqrt(-1*scores)))"
   ]
  },
  {
   "cell_type": "code",
   "execution_count": null,
   "metadata": {
    "collapsed": false
   },
   "outputs": [],
   "source": [
    "totalDF = pd.DataFrame(np.vstack((trainDF.values, testDF.values)), columns=trainDF.columns)\n",
    "\n",
    "totalDF = pd.get_dummies(totalDF, columns=catFeatures)\n",
    "\n",
    "trainDFdum = totalDF.iloc[:len(trainDF)]\n",
    "testDFdum = totalDF.iloc[len(trainDF):]"
   ]
  },
  {
   "cell_type": "code",
   "execution_count": null,
   "metadata": {
    "collapsed": false
   },
   "outputs": [],
   "source": [
    "X = trainDFdum.values\n",
    "XTest = testDFdum.values\n",
    "featureColumns = trainDFdum.columns"
   ]
  },
  {
   "cell_type": "code",
   "execution_count": null,
   "metadata": {
    "collapsed": true
   },
   "outputs": [],
   "source": [
    "pickle.dump([X, y, XTest, testIds, featureColumns, groups], open('freshPickles/dummyCleanExperimentData.pk', 'wb'))"
   ]
  }
 ],
 "metadata": {
  "kernelspec": {
   "display_name": "Projects",
   "language": "python",
   "name": "projects"
  },
  "language_info": {
   "codemirror_mode": {
    "name": "ipython",
    "version": 2
   },
   "file_extension": ".py",
   "mimetype": "text/x-python",
   "name": "python",
   "nbconvert_exporter": "python",
   "pygments_lexer": "ipython2",
   "version": "2.7.12"
  }
 },
 "nbformat": 4,
 "nbformat_minor": 2
}
