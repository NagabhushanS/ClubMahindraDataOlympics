{
 "cells": [
  {
   "cell_type": "code",
   "execution_count": null,
   "metadata": {
    "collapsed": true
   },
   "outputs": [],
   "source": [
    "from __future__ import division\n",
    "import os, sys\n",
    "import re\n",
    "import pandas as pd\n",
    "import numpy as np\n",
    "import matplotlib.pyplot as plt\n",
    "import seaborn as sbn\n",
    "import datetime\n",
    "import pickle\n",
    "from lightgbm import *\n",
    "from sklearn.model_selection import *\n",
    "from sklearn.ensemble import *\n",
    "from sklearn.base import clone\n",
    "import scipy\n",
    "from sklearn.metrics import *\n",
    "from catboost import *\n",
    "from sklearn.preprocessing import *\n",
    "from sklearn.pipeline import *\n",
    "from sklearn.linear_model import *\n",
    "from xgboost import *\n",
    "from sklearn.tree import *\n",
    "import pickle"
   ]
  },
  {
   "cell_type": "code",
   "execution_count": null,
   "metadata": {
    "collapsed": false
   },
   "outputs": [],
   "source": [
    "dateparse = lambda x: pd.datetime.strptime(x, '%d/%m/%y')\n",
    "trainDFOriginal = pd.read_csv('dataset/train.csv', parse_dates=['booking_date', 'checkin_date', 'checkout_date'], date_parser=dateparse)\n",
    "print('Done loading training data')\n",
    "testDFOriginal = pd.read_csv('dataset/test.csv', parse_dates=['booking_date', 'checkin_date', 'checkout_date'], date_parser=dateparse)\n",
    "print('Done loading testing data')"
   ]
  },
  {
   "cell_type": "code",
   "execution_count": null,
   "metadata": {
    "collapsed": true
   },
   "outputs": [],
   "source": [
    "X = X4\n",
    "y = y4\n",
    "XTest = XTest4\n",
    "testIds = testIds4"
   ]
  },
  {
   "cell_type": "code",
   "execution_count": null,
   "metadata": {
    "collapsed": false
   },
   "outputs": [],
   "source": [
    "gfCV5 = list(GroupKFold(n_splits=5).split(X4, y4, groups4))\n",
    "gfCV10 = list(GroupKFold(n_splits=10).split(X4, y4, groups4))"
   ]
  },
  {
   "cell_type": "code",
   "execution_count": null,
   "metadata": {
    "collapsed": false
   },
   "outputs": [],
   "source": [
    "def convertCat(trainDF, testDF, col):\n",
    "    trainX = np.array(trainDF[col].values)\n",
    "    testX = np.array(testDF[col].values)\n",
    "    totX = np.vstack((trainX.reshape((-1, 1)), testX.reshape((-1, 1))))\n",
    "    \n",
    "    totSeries = pd.Series(totX.reshape((-1,)))\n",
    "    categories = totSeries.astype('category').cat.categories\n",
    "    \n",
    "    print(categories)\n",
    "\n",
    "    trainDF[col] = trainDF[col].astype('category').cat.set_categories(categories)\n",
    "    testDF[col] = testDF[col].astype('category').cat.set_categories(categories)\n"
   ]
  },
  {
   "cell_type": "code",
   "execution_count": null,
   "metadata": {
    "collapsed": false
   },
   "outputs": [],
   "source": [
    "catFeatures = [\n",
    " 'channel_code',\n",
    " 'main_product_code',\n",
    " 'persontravellingid',\n",
    " 'resort_region_code',\n",
    " 'resort_type_code',\n",
    " 'room_type_booked_code',\n",
    " 'season_holidayed_code',\n",
    " 'state_code_residence',\n",
    " 'state_code_resort',\n",
    " 'member_age_buckets',\n",
    " 'booking_type_code',\n",
    " 'cluster_code',\n",
    " 'reservationstatusid_code',\n",
    " 'resort_id']\n",
    "\n",
    "\n",
    "for feature in catFeatures:\n",
    "    convertCat(trainDF, testDF, feature)"
   ]
  },
  {
   "cell_type": "code",
   "execution_count": null,
   "metadata": {
    "collapsed": false
   },
   "outputs": [],
   "source": [
    "# season_holidayed_code            341310 non-null category\n",
    "# state_code_residence             336660 non-null category\n",
    "\n",
    "trainDF['season_holidayed_code'].fillna(2.0, inplace=True)\n",
    "trainDF['state_code_residence'].fillna(8.0, inplace=True)\n",
    "\n",
    "testDF['season_holidayed_code'].fillna(2.0, inplace=True)\n",
    "testDF['state_code_residence'].fillna(8.0, inplace=True)\n",
    "\n",
    "# trainDF['season_holidayed_code'].value_counts()\n",
    "# trainDF['state_code_residence'].value_counts()"
   ]
  },
  {
   "cell_type": "code",
   "execution_count": null,
   "metadata": {
    "collapsed": true
   },
   "outputs": [],
   "source": [
    "dir(trainDF['checkin_date'].dt)\n",
    "newFeatures = ['day', 'dayofweek', 'dayofyear', 'days_in_month', 'is_leap_year', 'is_month_end',\n",
    " 'is_month_start', 'is_quarter_end', 'is_quarter_start', 'is_year_end','is_year_start','month',\n",
    " 'quarter','weekofyear', 'year']\n",
    "\n"
   ]
  },
  {
   "cell_type": "code",
   "execution_count": null,
   "metadata": {
    "collapsed": true
   },
   "outputs": [],
   "source": [
    "########################checkin, checkout and booking dates##########################################\n",
    "\n",
    "for feature in newFeatures:\n",
    "    trainDF['xxx_checkin_'+feature] = getattr(trainDF['checkin_date'].dt, feature)\n",
    "for feature in newFeatures:\n",
    "    trainDF['xxx_checkout_'+feature] = getattr(trainDF['checkout_date'].dt, feature)\n",
    "for feature in newFeatures:\n",
    "    trainDF['xxx_booking_'+feature] = getattr(trainDF['booking_date'].dt, feature)\n",
    "    \n",
    "for feature in newFeatures:\n",
    "    testDF['xxx_checkin_'+feature] = getattr(testDF['checkin_date'].dt, feature)\n",
    "for feature in newFeatures:\n",
    "    testDF['xxx_checkout_'+feature] = getattr(testDF['checkout_date'].dt, feature)\n",
    "for feature in newFeatures:\n",
    "    testDF['xxx_booking_'+feature] = getattr(testDF['booking_date'].dt, feature)\n",
    "    \n",
    "\n",
    "    "
   ]
  },
  {
   "cell_type": "code",
   "execution_count": null,
   "metadata": {
    "collapsed": true
   },
   "outputs": [],
   "source": [
    "########################checkin, checkout and booking dates##########################################\n",
    "\n",
    "trainDF['xxx_checkin_boarding_diff'] = (trainDF['checkin_date']-trainDF['booking_date']).dt.days\n",
    "testDF['xxx_checkin_boarding_diff'] = (testDF['checkin_date']-testDF['booking_date']).dt.days\n",
    "\n",
    "trainDF['xxx_checkout_checkin_diff'] = (trainDF['checkout_date']-trainDF['checkin_date']).dt.days\n",
    "testDF['xxx_checkout_checkin_diff'] = (testDF['checkout_date']-testDF['checkin_date']).dt.days\n",
    "\n",
    "\n",
    "trainDF['xxx_new_checkin'] = trainDF['checkin_date'].dt.date-datetime.date(2012, 3, 21)\n",
    "testDF['xxx_new_checkin'] = testDF['checkin_date'].dt.date-datetime.date(2012, 3, 21)\n",
    "\n",
    "trainDF['xxx_new_checkin'] = trainDF['xxx_new_checkin'].dt.days\n",
    "testDF['xxx_new_checkin'] = testDF['xxx_new_checkin'].dt.days\n",
    "\n",
    "trainDF['xxx_stayed_minus_roomnights'] = trainDF['roomnights']-trainDF['xxx_checkout_checkin_diff']\n",
    "testDF['xxx_stayed_minus_roomnights'] = testDF['roomnights']-testDF['xxx_checkout_checkin_diff']\n",
    "\n",
    "\n"
   ]
  },
  {
   "cell_type": "code",
   "execution_count": null,
   "metadata": {
    "collapsed": true
   },
   "outputs": [],
   "source": [
    "del trainDF['checkin_date']\n",
    "del testDF['checkin_date']\n",
    "del trainDF['checkout_date']\n",
    "del testDF['checkout_date']\n",
    "del trainDF['booking_date']\n",
    "del testDF['booking_date']"
   ]
  },
  {
   "cell_type": "code",
   "execution_count": null,
   "metadata": {
    "collapsed": true
   },
   "outputs": [],
   "source": [
    "y = np.array(trainDF['amount_spent_per_room_night_scaled'].values)\n",
    "testIds = np.array(testDF['reservation_id'].values)\n",
    "groups = np.array(trainDF['memberid'].values)"
   ]
  },
  {
   "cell_type": "code",
   "execution_count": null,
   "metadata": {
    "collapsed": true
   },
   "outputs": [],
   "source": [
    "##################################numberofadults, numberofchildren#####################################\n",
    "\n",
    "trainDF['xxx_diff_people'] = -trainDF['numberofchildren']-trainDF['numberofadults']+trainDF['total_pax'] \n",
    "testDF['xxx_diff_people'] = -testDF['numberofchildren']-testDF['numberofadults']+testDF['total_pax']\n",
    "\n",
    "trainDF['xxx_child_plus_adults'] = trainDF['numberofchildren'] + trainDF['numberofadults']\n",
    "testDF['xxx_child_plus_adults'] = testDF['numberofchildren'] + testDF['numberofadults']\n",
    "\n",
    "trainDF['xxx_child_fraction'] = trainDF['numberofchildren']/trainDF['xxx_child_plus_adults']\n",
    "testDF['xxx_child_fraction'] = testDF['numberofchildren']/testDF['xxx_child_plus_adults']\n",
    "\n",
    "trainDF['xxx_adult_fraction'] = trainDF['numberofadults']/trainDF['xxx_child_plus_adults']\n",
    "testDF['xxx_adult_fraction'] = testDF['numberofadults']/testDF['xxx_child_plus_adults']\n",
    "\n",
    "trainDF['xxx_ignore_pax_or_ch_ad'] = (trainDF['xxx_child_plus_adults']==trainDF['total_pax'])\n",
    "testDF['xxx_ignore_pax_or_ch_ad'] = (testDF['xxx_child_plus_adults']==testDF['total_pax'])\n",
    "\n",
    "trainDF['xxx_adult_fraction'].fillna(0, inplace=True)\n",
    "testDF['xxx_adult_fraction'].fillna(0, inplace=True)\n",
    "trainDF['xxx_child_fraction'].fillna(0, inplace=True)\n",
    "testDF['xxx_child_fraction'].fillna(0, inplace=True)"
   ]
  },
  {
   "cell_type": "code",
   "execution_count": null,
   "metadata": {
    "collapsed": true
   },
   "outputs": [],
   "source": [
    "###########################################memberid###################################################\n",
    "\n",
    "memberTrain = trainDF['memberid'].value_counts()\n",
    "memberTest = testDF['memberid'].value_counts()\n",
    "\n",
    "memberFeatureTrain = [0]*len(trainDF)\n",
    "memberFeatureTest = [0]*len(testDF)\n",
    "\n",
    "for i in range(len(trainDF)):\n",
    "    memberFeatureTrain[i] = memberTrain[trainDF.loc[i, 'memberid']]\n",
    "\n",
    "for i in range(len(testDF)):\n",
    "    memberFeatureTest[i] = memberTest[testDF.loc[i, 'memberid']]\n",
    "  \n",
    "trainDF['xxx_member_feature'] = memberFeatureTrain\n",
    "testDF['xxx_member_feature'] = memberFeatureTest\n"
   ]
  },
  {
   "cell_type": "code",
   "execution_count": null,
   "metadata": {
    "collapsed": true
   },
   "outputs": [],
   "source": [
    "del trainDF['reservation_id']\n",
    "del trainDF['amount_spent_per_room_night_scaled']\n",
    "del testDF['reservation_id']\n",
    "del trainDF['memberid']\n",
    "del testDF['memberid']"
   ]
  },
  {
   "cell_type": "code",
   "execution_count": null,
   "metadata": {
    "collapsed": true
   },
   "outputs": [],
   "source": [
    "pickle.dump([trainDF, testDF, y, testIds, groups], open('freshPickles/catFeaturesdtypecat.pk', 'wb'))"
   ]
  }
 ],
 "metadata": {
  "kernelspec": {
   "display_name": "Projects",
   "language": "python",
   "name": "projects"
  },
  "language_info": {
   "codemirror_mode": {
    "name": "ipython",
    "version": 2
   },
   "file_extension": ".py",
   "mimetype": "text/x-python",
   "name": "python",
   "nbconvert_exporter": "python",
   "pygments_lexer": "ipython2",
   "version": "2.7.12"
  }
 },
 "nbformat": 4,
 "nbformat_minor": 2
}
