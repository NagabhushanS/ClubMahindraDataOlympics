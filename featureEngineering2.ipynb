{
 "cells": [
  {
   "cell_type": "code",
   "execution_count": null,
   "metadata": {
    "collapsed": true
   },
   "outputs": [],
   "source": [
    "import os, sys\n",
    "import re\n",
    "import pandas as pd\n",
    "import numpy as np\n",
    "import matplotlib.pyplot as plt\n",
    "import seaborn as sbn\n",
    "import datetime\n",
    "import pickle\n",
    "from lightgbm import *\n",
    "from sklearn.model_selection import *\n",
    "from sklearn.ensemble import *\n",
    "import scipy\n",
    "from xgboost import *\n",
    "from catboost import *"
   ]
  },
  {
   "cell_type": "code",
   "execution_count": null,
   "metadata": {
    "collapsed": true
   },
   "outputs": [],
   "source": [
    "dateparse = lambda x: pd.datetime.strptime(x, '%d/%m/%y')"
   ]
  },
  {
   "cell_type": "code",
   "execution_count": null,
   "metadata": {
    "collapsed": false
   },
   "outputs": [],
   "source": [
    "trainDF = pd.read_csv('dataset/train.csv', parse_dates=['booking_date', 'checkin_date', 'checkout_date'], date_parser=dateparse)\n",
    "print('Done loading training data')\n",
    "testDF = pd.read_csv('dataset/test.csv', parse_dates=['booking_date', 'checkin_date', 'checkout_date'], date_parser=dateparse)\n",
    "print('Done loading testing data')"
   ]
  },
  {
   "cell_type": "code",
   "execution_count": null,
   "metadata": {
    "collapsed": true
   },
   "outputs": [],
   "source": [
    "cf = [\n",
    " 'channel_code',\n",
    " 'main_product_code',\n",
    " 'resort_region_code',\n",
    " 'resort_type_code',\n",
    " 'room_type_booked_code',\n",
    " 'season_holidayed_code',\n",
    " 'state_code_residence',\n",
    " 'state_code_resort',\n",
    " 'booking_type_code',\n",
    " 'xxx_ignore_pax_or_ch_ad',\n",
    " 'xxx_persontravellingid',\n",
    " 'xxx_member_age_buckets',\n",
    " 'xxx_cluster',\n",
    " 'xxx_reservationstatusid_code',\n",
    " 'xxx_resort_code']\n",
    "\n",
    "nf = [\n",
    " 'numberofadults',\n",
    " 'numberofchildren',\n",
    " 'roomnights',\n",
    " 'total_pax',\n",
    " 'xxx_checkin_boarding_diff',\n",
    " 'xxx_checkout_checkin_diff',\n",
    " 'xxx_new_checkin',\n",
    " 'xxx_stayed_minus_roomnights',\n",
    " 'xxx_xcheckin_nhf',\n",
    " 'xxx_diff_people',\n",
    " 'xxx_child_plus_adults',\n",
    " 'xxx_child_fraction',\n",
    " 'xxx_adult_fraction']"
   ]
  },
  {
   "cell_type": "code",
   "execution_count": null,
   "metadata": {
    "collapsed": false
   },
   "outputs": [],
   "source": [
    "newcf = []\n",
    "for feature in cf:\n",
    "    allValues = set(trainDF[feature])\n",
    "    for value in allValues:\n",
    "        newcf.append(feature+\"_\"+str(value))\n",
    "        \n",
    "print len(newcf)"
   ]
  },
  {
   "cell_type": "code",
   "execution_count": null,
   "metadata": {
    "collapsed": false
   },
   "outputs": [],
   "source": [
    "usfDict = {}\n",
    "\n",
    "users = list(set(trainDF['memberid']))+list(set(testDF['memberid']))\n",
    "\n",
    "for user in users:\n",
    "    usfDict[user] = {}\n",
    "    for f in newcf:\n",
    "        usfDict[user][f] = 0"
   ]
  },
  {
   "cell_type": "code",
   "execution_count": null,
   "metadata": {
    "collapsed": true
   },
   "outputs": [],
   "source": [
    "userCount = {}\n",
    "for i in range(len(trainDF)):\n",
    "    userCount[trainDF.loc[i, 'memberid']]=trainDF.loc[i, 'xxx_member_feature']\n",
    "    \n",
    "for i in range(len(testDF)):\n",
    "    userCount[testDF.loc[i, 'memberid']]=testDF.loc[i, 'xxx_member_feature']"
   ]
  },
  {
   "cell_type": "code",
   "execution_count": null,
   "metadata": {
    "collapsed": false,
    "scrolled": false
   },
   "outputs": [],
   "source": [
    "for i in range(len(trainDF)):\n",
    "    mid = trainDF.loc[i, 'memberid']\n",
    "    for f in cf:\n",
    "        fv = trainDF.loc[i, f]\n",
    "        fv = f+'_'+str(fv)\n",
    "        usfDict[mid][fv]+=1\n",
    "    if i%1000==0:\n",
    "        print(i)"
   ]
  },
  {
   "cell_type": "code",
   "execution_count": null,
   "metadata": {
    "collapsed": true
   },
   "outputs": [],
   "source": [
    "for i in range(len(testDF)):\n",
    "    mid = testDF.loc[i, 'memberid']\n",
    "    for f in cf:\n",
    "        fv = testDF.loc[i, f]\n",
    "        fv = f+'_'+str(fv)\n",
    "        usfDict[mid][fv]+=1"
   ]
  },
  {
   "cell_type": "code",
   "execution_count": null,
   "metadata": {
    "collapsed": true
   },
   "outputs": [],
   "source": [
    "for user in usfDict.keys():\n",
    "    for fv in usfDict[user].keys():\n",
    "        usfDict[user][fv] = float(usfDict[user][fv])/userCount[user]"
   ]
  },
  {
   "cell_type": "code",
   "execution_count": null,
   "metadata": {
    "collapsed": true
   },
   "outputs": [],
   "source": [
    "nusfDict = {}\n",
    "\n",
    "for user in users:\n",
    "    nusfDict[user] = {}\n",
    "    for f in nf:\n",
    "        nusfDict[user][f] = 0"
   ]
  },
  {
   "cell_type": "code",
   "execution_count": null,
   "metadata": {
    "collapsed": false
   },
   "outputs": [],
   "source": [
    "for i in range(len(trainDF)):\n",
    "    mid = trainDF.loc[i, 'memberid']\n",
    "    for f in nf:\n",
    "        nusfDict[mid][f]+=trainDF.loc[i, f]"
   ]
  },
  {
   "cell_type": "code",
   "execution_count": null,
   "metadata": {
    "collapsed": true
   },
   "outputs": [],
   "source": [
    "for i in range(len(testDF)):\n",
    "    mid = testDF.loc[i, 'memberid']\n",
    "    for f in nf:\n",
    "        nusfDict[mid][f]+=testDF.loc[i, f]"
   ]
  },
  {
   "cell_type": "code",
   "execution_count": null,
   "metadata": {
    "collapsed": true
   },
   "outputs": [],
   "source": [
    "for user in nusfDict.keys():\n",
    "    for fv in nusfDict[user].keys():\n",
    "        nusfDict[user][fv] = float(nusfDict[user][fv])/userCount[user]"
   ]
  },
  {
   "cell_type": "code",
   "execution_count": null,
   "metadata": {
    "collapsed": true
   },
   "outputs": [],
   "source": [
    "newSetTrain = {}\n",
    "newSetTest = {}\n",
    "\n",
    "for f in nf:\n",
    "    newSetTrain[f] = []\n",
    "    newSetTest[f] = []\n",
    "for f in newcf:\n",
    "    newSetTrain[f] = []\n",
    "    newSetTest[f] = []"
   ]
  },
  {
   "cell_type": "code",
   "execution_count": null,
   "metadata": {
    "collapsed": false
   },
   "outputs": [],
   "source": [
    "for i in range(len(trainDF)):\n",
    "    mid = trainDF.loc[i, 'memberid']\n",
    "    for f in nusfDict[mid].keys():\n",
    "        newSetTrain[f].append(nusfDict[mid][f])\n",
    "    for f in usfDict[mid].keys():\n",
    "        newSetTrain[f].append(usfDict[mid][f])"
   ]
  },
  {
   "cell_type": "code",
   "execution_count": null,
   "metadata": {
    "collapsed": true
   },
   "outputs": [],
   "source": [
    "for i in range(len(testDF)):\n",
    "    mid = testDF.loc[i, 'memberid']\n",
    "    for f in nusfDict[mid].keys():\n",
    "        newSetTest[f].append(nusfDict[mid][f])\n",
    "    for f in usfDict[mid].keys():\n",
    "        newSetTest[f].append(usfDict[mid][f])"
   ]
  },
  {
   "cell_type": "code",
   "execution_count": null,
   "metadata": {
    "collapsed": false
   },
   "outputs": [],
   "source": [
    "newDatasetTrain = {}\n",
    "newDatasetTest = {}\n",
    "\n",
    "for f in newSetTrain.keys():\n",
    "    newDatasetTrain['yyy_'+f] = newSetTrain[f]\n",
    "    \n",
    "for f in newSetTest.keys():\n",
    "    newDatasetTest['yyy_'+f] = newSetTest[f]"
   ]
  },
  {
   "cell_type": "code",
   "execution_count": null,
   "metadata": {
    "collapsed": true
   },
   "outputs": [],
   "source": [
    "newTrainDF = trainDF.copy()\n",
    "newTestDF = testDF.copy()"
   ]
  },
  {
   "cell_type": "code",
   "execution_count": null,
   "metadata": {
    "collapsed": true
   },
   "outputs": [],
   "source": [
    "for f in newDatasetTrain.keys():\n",
    "    newTrainDF[f] = newDatasetTrain[f]\n",
    "    \n",
    "for f in newDatasetTest.keys():\n",
    "    newTestDF[f] = newDatasetTest[f]"
   ]
  },
  {
   "cell_type": "code",
   "execution_count": null,
   "metadata": {
    "collapsed": true
   },
   "outputs": [],
   "source": [
    "testIds = np.array(newTestDF['reservation_id'].values)\n",
    "y = np.array(newTrainDF['amount_spent_per_room_night_scaled'].values)\n",
    "groups = np.array(newTrainDF['memberid'].values)"
   ]
  },
  {
   "cell_type": "code",
   "execution_count": null,
   "metadata": {
    "collapsed": true
   },
   "outputs": [],
   "source": [
    "copyTrain = newTrainDF.copy()\n",
    "copyTest = newTestDF.copy()"
   ]
  },
  {
   "cell_type": "code",
   "execution_count": null,
   "metadata": {
    "collapsed": true
   },
   "outputs": [],
   "source": [
    "del copyTrain['reservation_id']\n",
    "del copyTrain['amount_spent_per_room_night_scaled']\n",
    "del copyTest['reservation_id']\n",
    "del copyTrain['memberid']\n",
    "del copyTest['memberid']"
   ]
  },
  {
   "cell_type": "code",
   "execution_count": null,
   "metadata": {
    "collapsed": true
   },
   "outputs": [],
   "source": [
    "del trainDF['reservation_id']\n",
    "del trainDF['amount_spent_per_room_night_scaled']\n",
    "del testDF['reservation_id']\n",
    "del trainDF['memberid']\n",
    "del testDF['memberid']"
   ]
  },
  {
   "cell_type": "code",
   "execution_count": null,
   "metadata": {
    "collapsed": true
   },
   "outputs": [],
   "source": [
    "X = np.array(copyTrain.values)\n",
    "XTest = np.array(copyTest.values)\n",
    "featureColumns = np.array(copyTrain.columns)"
   ]
  },
  {
   "cell_type": "code",
   "execution_count": null,
   "metadata": {
    "collapsed": true
   },
   "outputs": [],
   "source": [
    "X1 = np.array(trainDF.values)\n",
    "XTest1 = np.array(testDF.values)\n",
    "featureColumns1 = np.array(trainDF.columns)"
   ]
  },
  {
   "cell_type": "code",
   "execution_count": null,
   "metadata": {
    "collapsed": true
   },
   "outputs": [],
   "source": [
    "pickle.dump([X, y, XTest, testIds, featureColumns, groups], open('freshPickles/cleanExperimentDataF=226.pk', 'wb'))"
   ]
  }
 ],
 "metadata": {
  "kernelspec": {
   "display_name": "Projects",
   "language": "python",
   "name": "projects"
  },
  "language_info": {
   "codemirror_mode": {
    "name": "ipython",
    "version": 2
   },
   "file_extension": ".py",
   "mimetype": "text/x-python",
   "name": "python",
   "nbconvert_exporter": "python",
   "pygments_lexer": "ipython2",
   "version": "2.7.12"
  }
 },
 "nbformat": 4,
 "nbformat_minor": 2
}
